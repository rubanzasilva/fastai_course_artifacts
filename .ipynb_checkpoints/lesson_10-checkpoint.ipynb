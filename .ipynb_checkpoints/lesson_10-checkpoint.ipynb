{
 "cells": [
  {
   "cell_type": "markdown",
   "id": "ae762ec3-8c70-4425-af07-b17671e972d4",
   "metadata": {},
   "source": [
    "# Stable Diffusion from the ground up\n",
    "\n",
    "Here we shall build a working Stable Diffusion model using just Python, the Python standard library, Matplotlib for plots, Jupyter Notebook, which is where we shall be writing our code, and nbdev, which we can use to create modules from notebooks."
   ]
  },
  {
   "cell_type": "code",
   "execution_count": 2,
   "id": "7f48a6bd-0279-4827-b7ce-0e513e514711",
   "metadata": {},
   "outputs": [],
   "source": [
    "from pathlib import Path\n",
    "import pickle, gzip, os, math, time, shutil , matplotlib as mpl, matplotlib.pyplot as plt"
   ]
  },
  {
   "cell_type": "markdown",
   "id": "75659886-c930-45dc-ac0a-6b0e02a1631c",
   "metadata": {},
   "source": [
    "##### Get data"
   ]
  },
  {
   "cell_type": "code",
   "execution_count": 15,
   "id": "f7b4370f-8331-4a5e-909a-9d3058b00f9c",
   "metadata": {},
   "outputs": [],
   "source": [
    "MNIST_URL = 'https://github.com/mnielsen/neural-networks-and-deep-learning/blob/master/data/mnist.pkl.gz?raw=true'\n",
    "path_data = Path('data')\n",
    "path_data.mkdir(exist_ok=True)\n",
    "path_gz = path_data/'mnist.pkl.gz'"
   ]
  },
  {
   "cell_type": "code",
   "execution_count": 18,
   "id": "e3a1d769-3eef-41e7-b9c2-5a5f36fefc1d",
   "metadata": {},
   "outputs": [],
   "source": [
    "from urllib.request import urlretrieve"
   ]
  },
  {
   "cell_type": "code",
   "execution_count": 21,
   "id": "ca3430ba-090c-4a82-b0cb-03d51bf768a0",
   "metadata": {},
   "outputs": [
    {
     "data": {
      "text/plain": [
       "<function urllib.request.urlretrieve(url, filename=None, reporthook=None, data=None)>"
      ]
     },
     "execution_count": 21,
     "metadata": {},
     "output_type": "execute_result"
    }
   ],
   "source": [
    "urlretrieve"
   ]
  },
  {
   "cell_type": "code",
   "execution_count": 22,
   "id": "7139cebd-5d32-44b9-a011-22a72fb0ee95",
   "metadata": {},
   "outputs": [],
   "source": [
    "if not path_gz.exists(): urlretrieve(MNIST_URL,path_gz)"
   ]
  },
  {
   "cell_type": "code",
   "execution_count": 25,
   "id": "081fd7fb-bfd4-4706-b7d6-5db122eee88d",
   "metadata": {},
   "outputs": [
    {
     "name": "stdout",
     "output_type": "stream",
     "text": [
      "total 16656\n",
      "-rw-r--r-- 1 rubanza rubanza 17051982 Jul 21 16:23 mnist.pkl.gz\n"
     ]
    }
   ],
   "source": [
    "!ls -l data"
   ]
  },
  {
   "cell_type": "markdown",
   "id": "2c0ce7be-2952-40be-a083-72c25696aa5f",
   "metadata": {},
   "source": [
    "-rw-r--r--  1  user  staff  15296311  Jul 21 10:30  mnist.pkl.gz\n",
    "    |       |   |     |        |        |           |\n",
    "    |       |   |     |        |        |           └── Filename\n",
    "    |       |   |     |        |        └── Modification time\n",
    "    |       |   |     |        └── File size (bytes)\n",
    "    |       |   |     └── Group owner\n",
    "    |       |   └── User owner  \n",
    "    |       └── Number of hard links\n",
    "    └── File permissions"
   ]
  },
  {
   "cell_type": "code",
   "execution_count": 26,
   "id": "e6575601-6986-402a-9160-f88a2a5244c8",
   "metadata": {},
   "outputs": [
    {
     "ename": "SyntaxError",
     "evalue": "incomplete input (4018735561.py, line 1)",
     "output_type": "error",
     "traceback": [
      "\u001b[0;36m  Cell \u001b[0;32mIn[26], line 1\u001b[0;36m\u001b[0m\n\u001b[0;31m    with gzip.open(path_gz,mode='rb') as f:\u001b[0m\n\u001b[0m                                            ^\u001b[0m\n\u001b[0;31mSyntaxError\u001b[0m\u001b[0;31m:\u001b[0m incomplete input\n"
     ]
    }
   ],
   "source": [
    "#context manager\n",
    "with gzip.open(path_gz,mode='rb') as f: "
   ]
  },
  {
   "cell_type": "code",
   "execution_count": 27,
   "id": "d9b3bc51-5fa8-4893-a062-1028833f79a5",
   "metadata": {},
   "outputs": [
    {
     "data": {
      "text/plain": [
       "PosixPath('data/mnist.pkl.gz')"
      ]
     },
     "execution_count": 27,
     "metadata": {},
     "output_type": "execute_result"
    }
   ],
   "source": [
    "path_gz"
   ]
  },
  {
   "cell_type": "code",
   "execution_count": 31,
   "id": "402b3a0d-fa98-4676-be02-c32905b6ca14",
   "metadata": {},
   "outputs": [
    {
     "ename": "UnicodeDecodeError",
     "evalue": "'ascii' codec can't decode byte 0x90 in position 614: ordinal not in range(128)",
     "output_type": "error",
     "traceback": [
      "\u001b[0;31m---------------------------------------------------------------------------\u001b[0m",
      "\u001b[0;31mUnicodeDecodeError\u001b[0m                        Traceback (most recent call last)",
      "Cell \u001b[0;32mIn[31], line 2\u001b[0m\n\u001b[1;32m      1\u001b[0m \u001b[38;5;28;01mwith\u001b[39;00m gzip\u001b[38;5;241m.\u001b[39mopen(\u001b[38;5;124m'\u001b[39m\u001b[38;5;124mdata/mnist.pkl.gz\u001b[39m\u001b[38;5;124m'\u001b[39m,\u001b[38;5;124m'\u001b[39m\u001b[38;5;124mrb\u001b[39m\u001b[38;5;124m'\u001b[39m) \u001b[38;5;28;01mas\u001b[39;00m f:\n\u001b[0;32m----> 2\u001b[0m     dataset \u001b[38;5;241m=\u001b[39m \u001b[43mpickle\u001b[49m\u001b[38;5;241;43m.\u001b[39;49m\u001b[43mload\u001b[49m\u001b[43m(\u001b[49m\u001b[43mf\u001b[49m\u001b[43m)\u001b[49m\n",
      "\u001b[0;31mUnicodeDecodeError\u001b[0m: 'ascii' codec can't decode byte 0x90 in position 614: ordinal not in range(128)"
     ]
    }
   ],
   "source": [
    "with gzip.open('data/mnist.pkl.gz','rb') as f:\n",
    "    dataset = pickle.load(f)"
   ]
  },
  {
   "cell_type": "code",
   "execution_count": 32,
   "id": "4f566267-c1af-4712-b5e4-238930caef99",
   "metadata": {},
   "outputs": [
    {
     "name": "stdout",
     "output_type": "stream",
     "text": [
      "<class 'tuple'>\n",
      "3\n",
      "(50000, 784)\n"
     ]
    }
   ],
   "source": [
    "import gzip\n",
    "import pickle\n",
    "\n",
    "# Correct approach - handles decompression automatically\n",
    "with gzip.open('data/mnist.pkl.gz', 'rb') as f:\n",
    "    dataset = pickle.load(f, encoding='latin-1')\n",
    "\n",
    "# Verify it worked\n",
    "print(type(dataset))           # Should be tuple\n",
    "print(len(dataset))            # Should be 3\n",
    "((x_train, y_train), (x_valid, y_valid), _) = dataset\n",
    "print(x_train.shape)           # Should be (50000, 784)"
   ]
  },
  {
   "cell_type": "code",
   "execution_count": 33,
   "id": "79fadacd-4c6b-4ffe-b436-94fca55c013f",
   "metadata": {},
   "outputs": [
    {
     "data": {
      "text/plain": [
       "((array([[0., 0., 0., ..., 0., 0., 0.],\n",
       "         [0., 0., 0., ..., 0., 0., 0.],\n",
       "         [0., 0., 0., ..., 0., 0., 0.],\n",
       "         ...,\n",
       "         [0., 0., 0., ..., 0., 0., 0.],\n",
       "         [0., 0., 0., ..., 0., 0., 0.],\n",
       "         [0., 0., 0., ..., 0., 0., 0.]], dtype=float32),\n",
       "  array([5, 0, 4, ..., 8, 4, 8])),\n",
       " (array([[0., 0., 0., ..., 0., 0., 0.],\n",
       "         [0., 0., 0., ..., 0., 0., 0.],\n",
       "         [0., 0., 0., ..., 0., 0., 0.],\n",
       "         ...,\n",
       "         [0., 0., 0., ..., 0., 0., 0.],\n",
       "         [0., 0., 0., ..., 0., 0., 0.],\n",
       "         [0., 0., 0., ..., 0., 0., 0.]], dtype=float32),\n",
       "  array([3, 8, 6, ..., 5, 6, 8])),\n",
       " (array([[0., 0., 0., ..., 0., 0., 0.],\n",
       "         [0., 0., 0., ..., 0., 0., 0.],\n",
       "         [0., 0., 0., ..., 0., 0., 0.],\n",
       "         ...,\n",
       "         [0., 0., 0., ..., 0., 0., 0.],\n",
       "         [0., 0., 0., ..., 0., 0., 0.],\n",
       "         [0., 0., 0., ..., 0., 0., 0.]], dtype=float32),\n",
       "  array([7, 2, 1, ..., 4, 5, 6])))"
      ]
     },
     "execution_count": 33,
     "metadata": {},
     "output_type": "execute_result"
    }
   ],
   "source": [
    "dataset"
   ]
  },
  {
   "cell_type": "code",
   "execution_count": null,
   "id": "2f8670e5-db9a-46bc-8cb5-92f0204b07c1",
   "metadata": {},
   "outputs": [],
   "source": []
  }
 ],
 "metadata": {
  "kernelspec": {
   "display_name": "Python 3 (ipykernel)",
   "language": "python",
   "name": "python3"
  },
  "language_info": {
   "codemirror_mode": {
    "name": "ipython",
    "version": 3
   },
   "file_extension": ".py",
   "mimetype": "text/x-python",
   "name": "python",
   "nbconvert_exporter": "python",
   "pygments_lexer": "ipython3",
   "version": "3.10.12"
  }
 },
 "nbformat": 4,
 "nbformat_minor": 5
}
